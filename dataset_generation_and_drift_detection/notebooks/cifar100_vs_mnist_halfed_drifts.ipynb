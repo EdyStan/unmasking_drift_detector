{
 "cells": [
  {
   "cell_type": "code",
   "execution_count": 1,
   "metadata": {},
   "outputs": [
    {
     "name": "stderr",
     "output_type": "stream",
     "text": [
      "2024-02-13 16:45:41.897591: I external/local_tsl/tsl/cuda/cudart_stub.cc:31] Could not find cuda drivers on your machine, GPU will not be used.\n",
      "2024-02-13 16:45:41.929151: E external/local_xla/xla/stream_executor/cuda/cuda_dnn.cc:9261] Unable to register cuDNN factory: Attempting to register factory for plugin cuDNN when one has already been registered\n",
      "2024-02-13 16:45:41.929172: E external/local_xla/xla/stream_executor/cuda/cuda_fft.cc:607] Unable to register cuFFT factory: Attempting to register factory for plugin cuFFT when one has already been registered\n",
      "2024-02-13 16:45:41.931365: E external/local_xla/xla/stream_executor/cuda/cuda_blas.cc:1515] Unable to register cuBLAS factory: Attempting to register factory for plugin cuBLAS when one has already been registered\n",
      "2024-02-13 16:45:41.938590: I external/local_tsl/tsl/cuda/cudart_stub.cc:31] Could not find cuda drivers on your machine, GPU will not be used.\n",
      "2024-02-13 16:45:41.938891: I tensorflow/core/platform/cpu_feature_guard.cc:182] This TensorFlow binary is optimized to use available CPU instructions in performance-critical operations.\n",
      "To enable the following instructions: AVX2 FMA, in other operations, rebuild TensorFlow with the appropriate compiler flags.\n",
      "2024-02-13 16:45:42.766375: W tensorflow/compiler/tf2tensorrt/utils/py_utils.cc:38] TF-TRT Warning: Could not find TensorRT\n"
     ]
    }
   ],
   "source": [
    "from keras.datasets import cifar100    \n",
    "from models.utils import ResNet18, split_dataframe, detect_drifts\n",
    "from skimage.transform import resize\n",
    "import keras\n",
    "import numpy as np\n",
    "import models.unmasking_drift_detector as unm\n",
    "import models.d3_drift_detector as d3\n",
    "import matplotlib.pyplot as plt"
   ]
  },
  {
   "cell_type": "code",
   "execution_count": 2,
   "metadata": {},
   "outputs": [],
   "source": [
    "(images_train, labels_train), (images_test, labels_test) = cifar100.load_data()\n",
    "\n",
    "# svhn_data = loadmat('train_32x32.mat')\n",
    "# svhn_images, svhn_labels = svhn_data['X'], svhn_data['y']\n",
    "# svhn_images = np.moveaxis(svhn_images, -1, 0)\n",
    "# cap = svhn_images.shape[0] // 2\n",
    "# idx = int(0.8 * cap)"
   ]
  },
  {
   "cell_type": "code",
   "execution_count": 3,
   "metadata": {},
   "outputs": [
    {
     "data": {
      "text/plain": [
       "((10000, 32, 32, 3),\n",
       " array([ 0,  1,  2,  3,  4,  5,  6,  7,  8,  9, 10, 11, 12, 13, 14, 15, 16,\n",
       "        17, 18, 19, 20, 21, 22, 23, 24, 25, 26, 27, 28, 29, 30, 31, 32, 33,\n",
       "        34, 35, 36, 37, 38, 39, 40, 41, 42, 43, 44, 45, 46, 47, 48, 49, 50,\n",
       "        51, 52, 53, 54, 55, 56, 57, 58, 59, 60, 61, 62, 63, 64, 65, 66, 67,\n",
       "        68, 69, 70, 71, 72, 73, 74, 75, 76, 77, 78, 79, 80, 81, 82, 83, 84,\n",
       "        85, 86, 87, 88, 89, 90, 91, 92, 93, 94, 95, 96, 97, 98, 99]))"
      ]
     },
     "execution_count": 3,
     "metadata": {},
     "output_type": "execute_result"
    }
   ],
   "source": [
    "images_test.shape, np.unique(labels_test)"
   ]
  },
  {
   "cell_type": "code",
   "execution_count": 4,
   "metadata": {},
   "outputs": [],
   "source": [
    "train_indices = np.where(np.isin(labels_train, range(50)))[0]\n",
    "X_train = images_train[train_indices]\n",
    "y_train = labels_train[train_indices]\n",
    "test_indices = np.where(np.isin(labels_test, range(50)))[0]\n",
    "X_test = images_test[test_indices]\n",
    "y_test = labels_test[test_indices]"
   ]
  },
  {
   "cell_type": "code",
   "execution_count": 5,
   "metadata": {},
   "outputs": [
    {
     "data": {
      "text/plain": [
       "((25000, 32, 32, 3), (25000, 1), (5000, 32, 32, 3), (5000, 1))"
      ]
     },
     "execution_count": 5,
     "metadata": {},
     "output_type": "execute_result"
    }
   ],
   "source": [
    "X_train.shape, y_train.shape, X_test.shape, y_test.shape"
   ]
  },
  {
   "cell_type": "code",
   "execution_count": 8,
   "metadata": {},
   "outputs": [
    {
     "name": "stdout",
     "output_type": "stream",
     "text": [
      "Epoch 1/25\n",
      "391/391 [==============================] - 368s 931ms/step - loss: 3.1643 - accuracy: 0.2005 - val_loss: 5.8547 - val_accuracy: 0.1230\n",
      "Epoch 2/25\n",
      "391/391 [==============================] - 352s 901ms/step - loss: 2.4913 - accuracy: 0.3368 - val_loss: 3.6828 - val_accuracy: 0.2090\n",
      "Epoch 3/25\n",
      "391/391 [==============================] - 357s 912ms/step - loss: 2.1019 - accuracy: 0.4230 - val_loss: 4.7433 - val_accuracy: 0.1804\n",
      "Epoch 4/25\n",
      "391/391 [==============================] - 360s 922ms/step - loss: 1.8452 - accuracy: 0.4838 - val_loss: 2.8407 - val_accuracy: 0.3200\n",
      "Epoch 5/25\n",
      "391/391 [==============================] - 361s 924ms/step - loss: 1.5988 - accuracy: 0.5409 - val_loss: 2.8185 - val_accuracy: 0.3276\n",
      "Epoch 6/25\n",
      "391/391 [==============================] - 357s 914ms/step - loss: 1.3960 - accuracy: 0.5884 - val_loss: 2.7143 - val_accuracy: 0.3696\n",
      "Epoch 7/25\n",
      "391/391 [==============================] - 374s 957ms/step - loss: 1.1705 - accuracy: 0.6511 - val_loss: 2.5057 - val_accuracy: 0.3962\n",
      "Epoch 8/25\n",
      "391/391 [==============================] - 375s 960ms/step - loss: 0.9652 - accuracy: 0.7091 - val_loss: 2.8201 - val_accuracy: 0.3596\n",
      "Epoch 9/25\n",
      "391/391 [==============================] - 374s 957ms/step - loss: 0.7669 - accuracy: 0.7596 - val_loss: 3.0767 - val_accuracy: 0.3736\n",
      "Epoch 10/25\n",
      "391/391 [==============================] - 367s 939ms/step - loss: 0.5791 - accuracy: 0.8150 - val_loss: 3.2432 - val_accuracy: 0.3738\n",
      "Epoch 11/25\n",
      "391/391 [==============================] - 339s 866ms/step - loss: 0.4473 - accuracy: 0.8579 - val_loss: 2.8068 - val_accuracy: 0.4636\n",
      "Epoch 12/25\n",
      "391/391 [==============================] - 355s 908ms/step - loss: 0.3377 - accuracy: 0.8908 - val_loss: 3.2825 - val_accuracy: 0.4152\n",
      "Epoch 13/25\n",
      "391/391 [==============================] - 373s 953ms/step - loss: 0.2669 - accuracy: 0.9136 - val_loss: 3.0494 - val_accuracy: 0.4528\n",
      "Epoch 14/25\n",
      "391/391 [==============================] - 376s 962ms/step - loss: 0.2406 - accuracy: 0.9212 - val_loss: 2.9438 - val_accuracy: 0.4742\n",
      "Epoch 15/25\n",
      "391/391 [==============================] - 381s 975ms/step - loss: 0.2188 - accuracy: 0.9306 - val_loss: 3.3668 - val_accuracy: 0.4232\n",
      "Epoch 16/25\n",
      "391/391 [==============================] - 376s 962ms/step - loss: 0.2083 - accuracy: 0.9326 - val_loss: 3.0435 - val_accuracy: 0.4808\n",
      "Epoch 17/25\n",
      "391/391 [==============================] - 374s 956ms/step - loss: 0.1538 - accuracy: 0.9503 - val_loss: 3.6121 - val_accuracy: 0.4374\n",
      "Epoch 18/25\n",
      "391/391 [==============================] - 382s 978ms/step - loss: 0.1740 - accuracy: 0.9424 - val_loss: 3.9657 - val_accuracy: 0.4188\n",
      "Epoch 19/25\n",
      "391/391 [==============================] - 376s 961ms/step - loss: 0.1818 - accuracy: 0.9407 - val_loss: 3.9350 - val_accuracy: 0.4394\n",
      "Epoch 20/25\n",
      "391/391 [==============================] - 378s 966ms/step - loss: 0.1498 - accuracy: 0.9505 - val_loss: 4.1932 - val_accuracy: 0.4008\n",
      "Epoch 21/25\n",
      "391/391 [==============================] - 378s 966ms/step - loss: 0.1173 - accuracy: 0.9630 - val_loss: 3.9988 - val_accuracy: 0.4240\n",
      "Epoch 22/25\n",
      "391/391 [==============================] - 375s 960ms/step - loss: 0.1375 - accuracy: 0.9565 - val_loss: 3.5021 - val_accuracy: 0.4702\n",
      "Epoch 23/25\n",
      "391/391 [==============================] - 374s 958ms/step - loss: 0.1235 - accuracy: 0.9582 - val_loss: 4.0073 - val_accuracy: 0.4468\n",
      "Epoch 24/25\n",
      "391/391 [==============================] - 374s 958ms/step - loss: 0.1113 - accuracy: 0.9630 - val_loss: 3.3458 - val_accuracy: 0.4960\n",
      "Epoch 25/25\n",
      "391/391 [==============================] - 368s 941ms/step - loss: 0.1130 - accuracy: 0.9637 - val_loss: 3.8596 - val_accuracy: 0.4540\n"
     ]
    },
    {
     "data": {
      "text/plain": [
       "<keras.src.callbacks.History at 0x7f2898419b70>"
      ]
     },
     "execution_count": 8,
     "metadata": {},
     "output_type": "execute_result"
    }
   ],
   "source": [
    "# model = ResNet18(input_shape=(32, 32, 3), n_classes=50)\n",
    "# model.compile(optimizer=keras.optimizers.Adam(), loss='sparse_categorical_crossentropy', metrics=['accuracy'])\n",
    "# model.fit(X_train, y_train, batch_size=64, epochs=25, validation_data=(X_test, y_test))\n",
    "# # Epoch 25/25\n",
    "# # 391/391 [==============================] - 368s 941ms/step - loss: 0.1130 - accuracy: 0.9637 - val_loss: 3.8596 - val_accuracy: 0.4540"
   ]
  },
  {
   "cell_type": "code",
   "execution_count": 6,
   "metadata": {},
   "outputs": [],
   "source": [
    "import tensorflow as tf\n",
    "# model.save('model_25epochs.h5')\n",
    "model = tf.keras.models.load_model('driftDatasets/model_25epochs.h5')\n"
   ]
  },
  {
   "cell_type": "code",
   "execution_count": 7,
   "metadata": {},
   "outputs": [],
   "source": [
    "extract_features_model = keras.Model(inputs=model.input, outputs=model.get_layer('avg_pool').output)"
   ]
  },
  {
   "cell_type": "code",
   "execution_count": 8,
   "metadata": {},
   "outputs": [
    {
     "data": {
      "text/plain": [
       "(25000, 32, 32, 3)"
      ]
     },
     "execution_count": 8,
     "metadata": {},
     "output_type": "execute_result"
    }
   ],
   "source": [
    "unseen_data_indices = np.where(np.isin(labels_train, range(50, 100)))[0]\n",
    "unseen_data = images_train[unseen_data_indices]\n",
    "unseen_data.shape"
   ]
  },
  {
   "cell_type": "code",
   "execution_count": 9,
   "metadata": {},
   "outputs": [],
   "source": [
    "from keras.datasets import mnist\n",
    "(mnist_images, _), (_, _) = mnist.load_data()\n",
    "mnist_images = resize(mnist_images, (mnist_images.shape[0],32,32,3))"
   ]
  },
  {
   "cell_type": "code",
   "execution_count": 10,
   "metadata": {},
   "outputs": [],
   "source": [
    "drifted_data = np.empty((0, 32, 32, 3))\n",
    "i = 0\n",
    "last_index = 0\n",
    "current_index = 0\n",
    "ground_truth_drifts = []\n",
    "\n",
    "dimension_limit = 0.8 * X_train.shape[0]\n",
    "while drifted_data.shape[0] < dimension_limit:\n",
    "    current_index += np.random.choice([200, 400, 600, 800])\n",
    "    if i % 2 == 0:\n",
    "        if i != 0:\n",
    "            ground_truth_drifts.append(drifted_data.shape[0])\n",
    "        known_batch = X_train[3*last_index:3*current_index]\n",
    "        drifted_data = np.concatenate((drifted_data, known_batch), axis=0)\n",
    "    else:\n",
    "        # ground_truth_drifts.append(drifted_data.shape[0])\n",
    "        known_batch = X_train[2*last_index:2*current_index]\n",
    "        batch = np.concatenate((known_batch, mnist_images[last_index:current_index]), axis=0)\n",
    "        np.random.shuffle(batch)\n",
    "        drifted_data = np.concatenate((drifted_data, batch), axis=0)\n",
    "    last_index = current_index\n",
    "    i += 1"
   ]
  },
  {
   "cell_type": "code",
   "execution_count": 11,
   "metadata": {},
   "outputs": [],
   "source": [
    "# drifted_data = np.empty((0, 32, 32, 3))\n",
    "# i = 0\n",
    "# last_index = 0\n",
    "# current_index = 0\n",
    "# ground_truth_drifts = []\n",
    "\n",
    "# dimension_limit = 0.9 * images_train.shape[0]\n",
    "# while drifted_data.shape[0] < dimension_limit:\n",
    "#     if i % 2 == 0:\n",
    "#         current_index += np.random.choice([400, 800, 1200, 1600])\n",
    "#         if i != 0:\n",
    "#             ground_truth_drifts.append(drifted_data.shape[0])\n",
    "#         known_batch = X_train[last_index:current_index]\n",
    "#         drifted_data = np.concatenate((drifted_data, known_batch), axis=0)\n",
    "#     else:\n",
    "#         # ground_truth_drifts.append(drifted_data.shape[0])\n",
    "#         batch = unseen_data[last_index:current_index]\n",
    "#         np.random.shuffle(batch)\n",
    "#         drifted_data = np.concatenate((drifted_data, batch), axis=0)\n",
    "#         last_index = current_index\n",
    "#     i += 1"
   ]
  },
  {
   "cell_type": "code",
   "execution_count": 12,
   "metadata": {},
   "outputs": [
    {
     "data": {
      "text/plain": [
       "(21000, 32, 32, 3)"
      ]
     },
     "execution_count": 12,
     "metadata": {},
     "output_type": "execute_result"
    }
   ],
   "source": [
    "drifted_data.shape"
   ]
  },
  {
   "cell_type": "code",
   "execution_count": 13,
   "metadata": {},
   "outputs": [
    {
     "name": "stderr",
     "output_type": "stream",
     "text": [
      "2024-02-13 16:46:40.598245: W external/local_tsl/tsl/framework/cpu_allocator_impl.cc:83] Allocation of 258048000 exceeds 10% of free system memory.\n"
     ]
    },
    {
     "name": "stdout",
     "output_type": "stream",
     "text": [
      "657/657 [==============================] - 10s 15ms/step\n"
     ]
    },
    {
     "name": "stderr",
     "output_type": "stream",
     "text": [
      "2024-02-13 16:46:50.882675: W external/local_tsl/tsl/framework/cpu_allocator_impl.cc:83] Allocation of 43008000 exceeds 10% of free system memory.\n"
     ]
    },
    {
     "data": {
      "text/plain": [
       "(21000, 512)"
      ]
     },
     "execution_count": 13,
     "metadata": {},
     "output_type": "execute_result"
    }
   ],
   "source": [
    "features = extract_features_model.predict(drifted_data)\n",
    "features.shape"
   ]
  },
  {
   "cell_type": "code",
   "execution_count": 14,
   "metadata": {},
   "outputs": [
    {
     "data": {
      "text/plain": [
       "array([ 6, 13, 16, 21, 30, 37, 43])"
      ]
     },
     "execution_count": 14,
     "metadata": {},
     "output_type": "execute_result"
    }
   ],
   "source": [
    "batch_size = 400\n",
    "data_splitted = split_dataframe(features, batch_size)\n",
    "ground_truth_drifts_batch = np.array(ground_truth_drifts) / 400\n",
    "ground_truth_drifts_batch = ground_truth_drifts_batch.astype(int)\n",
    "ground_truth_drifts_batch"
   ]
  },
  {
   "cell_type": "code",
   "execution_count": 15,
   "metadata": {},
   "outputs": [],
   "source": [
    "# np.save(\"ground_truth_drifts_batch_cifar.npy\", ground_truth_drifts_batch)\n",
    "# np.save(\"features_cifar.npy\", features)"
   ]
  },
  {
   "cell_type": "code",
   "execution_count": 16,
   "metadata": {},
   "outputs": [
    {
     "name": "stdout",
     "output_type": "stream",
     "text": [
      "Unmasking:\n",
      "Threshold = 0.45\n",
      "0.18421052631578946\n",
      "Threshold = 0.47\n",
      "0.2\n",
      "Threshold = 0.5\n",
      "0.25925925925925924\n",
      "Threshold = 0.52\n",
      "0.4375\n",
      "Threshold = 0.53\n",
      "0.375\n",
      "Threshold = 0.54\n",
      "0.5454545454545454\n",
      "Threshold = 0.55\n",
      "0.7777777777777778\n",
      "Threshold = 0.56\n",
      "0.5555555555555556\n",
      "Threshold = 0.57\n",
      "0.25\n",
      "Threshold = 0.58\n",
      "0.2857142857142857\n",
      "Threshold = 0.6\n",
      "0.14285714285714285\n"
     ]
    },
    {
     "data": {
      "image/png": "[encoded data removed]",
      "text/plain": [
       "<Figure size 640x480 with 1 Axes>"
      ]
     },
     "metadata": {},
     "output_type": "display_data"
    }
   ],
   "source": [
    "# Perform grid search over the unmasking algorithm.\n",
    "thresholds = [0.45, 0.47, 0.5, 0.52, 0.53, 0.54, 0.55, 0.56, 0.57, 0.58, 0.6]\n",
    "jaccard_sim_unm = []\n",
    "\n",
    "print(\"Unmasking:\")\n",
    "for thr in thresholds:\n",
    "    print(f\"Threshold = {thr}\")\n",
    "    sim_unm = detect_drifts(data_splitted, unm.drift_detector, ground_truth_drifts_batch, show_drifts=False, accepted_error=1, threshold=thr, min_feature_percentage_remaining=0.05)\n",
    "    print(sim_unm)\n",
    "    jaccard_sim_unm.append(sim_unm)\n",
    "\n",
    "\n",
    "# Plot the results\n",
    "plt.xlabel('Threshold')\n",
    "plt.ylabel('Jaccard Similarity')\n",
    "plt.title('Drift detection over cifar100 x MNIST)')\n",
    "\n",
    "plt.scatter(thresholds, jaccard_sim_unm, marker='o', color='red', label='accepted_error=1')\n",
    "plt.grid()\n",
    "plt.legend()\n",
    "# plt.savefig('/images/svhn_itself_jaccard_thresholds_error1.png')\n",
    "plt.show()"
   ]
  },
  {
   "cell_type": "code",
   "execution_count": 18,
   "metadata": {},
   "outputs": [
    {
     "name": "stdout",
     "output_type": "stream",
     "text": [
      "D3:\n",
      "0.42857142857142855\n"
     ]
    }
   ],
   "source": [
    "print(\"D3:\")\n",
    "sim_d3 = detect_drifts(data_splitted, d3.drift_detector, ground_truth_drifts_batch, accepted_error=1, show_drifts=False)\n",
    "print(sim_d3)"
   ]
  }
 ],
 "metadata": {
  "kernelspec": {
   "display_name": ".venv",
   "language": "python",
   "name": "python3"
  },
  "language_info": {
   "codemirror_mode": {
    "name": "ipython",
    "version": 3
   },
   "file_extension": ".py",
   "mimetype": "text/x-python",
   "name": "python",
   "nbconvert_exporter": "python",
   "pygments_lexer": "ipython3",
   "version": "3.10.12"
  }
 },
 "nbformat": 4,
 "nbformat_minor": 2
}
