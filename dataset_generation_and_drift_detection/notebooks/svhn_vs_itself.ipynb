{
 "cells": [
  {
   "cell_type": "code",
   "execution_count": 11,
   "metadata": {},
   "outputs": [],
   "source": [
    "from keras.datasets import cifar100    \n",
    "from models.utils import ResNet18, split_dataframe, detect_drifts\n",
    "from scipy.io import loadmat\n",
    "import keras\n",
    "import numpy as np\n",
    "import models.unmasking_drift_detector as unm\n",
    "import models.d3_drift_detector as d3\n",
    "import matplotlib.pyplot as plt\n",
    "\n",
    "\n",
    "# load the main dataset\n",
    "svhn_data = loadmat('train_32x32.mat')\n",
    "svhn_images, svhn_labels = svhn_data['X'], svhn_data['y']\n",
    "svhn_images = np.moveaxis(svhn_images, -1, 0)\n",
    "svhn_labels -= 1  # normally, svhn labels range from 1 to 10, so we solve this issue for later\n",
    "\n",
    "# select only the images that correspond to the first 5 labels\n",
    "train_indices = np.where(np.isin(svhn_labels, range(5)))[0]\n",
    "\n",
    "# define a cap so that we can choose just a percentage of the whole data to train/validate the neural network\n",
    "cap = len(train_indices)\n",
    "\n",
    "# split the dataset in train/test values\n",
    "idx = int(0.8 * cap)\n",
    "X_train, X_test = svhn_images[train_indices][:idx], svhn_images[train_indices][idx:]\n",
    "y_train, y_test = svhn_labels[train_indices][:idx], svhn_labels[train_indices][idx:]\n"
   ]
  },
  {
   "cell_type": "code",
   "execution_count": 12,
   "metadata": {},
   "outputs": [
    {
     "data": {
      "text/plain": [
       "((37826, 32, 32, 3), (9457, 32, 32, 3), (37826, 1), (9457, 1))"
      ]
     },
     "execution_count": 12,
     "metadata": {},
     "output_type": "execute_result"
    }
   ],
   "source": [
    "X_train.shape, X_test.shape, y_train.shape, y_test.shape"
   ]
  },
  {
   "cell_type": "code",
   "execution_count": 13,
   "metadata": {},
   "outputs": [
    {
     "name": "stdout",
     "output_type": "stream",
     "text": [
      "Epoch 1/3\n",
      "592/592 [==============================] - 562s 943ms/step - loss: 0.5388 - accuracy: 0.8189 - val_loss: 0.7548 - val_accuracy: 0.7368\n",
      "Epoch 2/3\n",
      "592/592 [==============================] - 570s 963ms/step - loss: 0.3054 - accuracy: 0.8986 - val_loss: 0.3838 - val_accuracy: 0.8668\n",
      "Epoch 3/3\n",
      "592/592 [==============================] - 577s 975ms/step - loss: 0.2323 - accuracy: 0.9237 - val_loss: 0.3995 - val_accuracy: 0.8571\n"
     ]
    },
    {
     "data": {
      "text/plain": [
       "<keras.src.callbacks.History at 0x7f5abc5e4a00>"
      ]
     },
     "execution_count": 13,
     "metadata": {},
     "output_type": "execute_result"
    }
   ],
   "source": [
    "# Initialize, compile and fit the ResNet18 neural network\n",
    "model = ResNet18(input_shape=(32, 32, 3), n_classes=50)\n",
    "model.compile(optimizer=keras.optimizers.Adam(), loss='sparse_categorical_crossentropy', metrics=['accuracy'])\n",
    "model.fit(X_train, y_train, batch_size=64, epochs=3, validation_data=(X_test, y_test))\n"
   ]
  },
  {
   "cell_type": "code",
   "execution_count": 22,
   "metadata": {},
   "outputs": [],
   "source": [
    "\n",
    "\n",
    "# define the unseen data as the images corresponding to the last 50 labels. \n",
    "# these images were not used to fit the model.\n",
    "unseen_data_indices = np.where(np.isin(svhn_labels, range(5, 10)))[0]\n",
    "unseen_data = svhn_images[unseen_data_indices]\n",
    "\n",
    "\n",
    "# Next, we generate drift over the dataset.\n",
    "# The drifted dataset will have alternating batches of unseen_data and X_train\n",
    "# The length of each batch is also flexible\n",
    "drifted_data = np.empty((0, 32, 32, 3))\n",
    "i = 0\n",
    "last_index = 0\n",
    "current_index = 0\n",
    "ground_truth_drifts = []\n",
    "\n",
    "dimension_limit = 0.7 * svhn_images.shape[0]\n",
    "while drifted_data.shape[0] < dimension_limit:\n",
    "    if i % 2 == 0:\n",
    "        current_index += np.random.choice([400, 800, 1200, 1600])\n",
    "        if i != 0:\n",
    "            ground_truth_drifts.append(drifted_data.shape[0])\n",
    "        known_batch = X_train[last_index:current_index]\n",
    "        drifted_data = np.concatenate((drifted_data, known_batch), axis=0)\n",
    "    else:\n",
    "        ground_truth_drifts.append(drifted_data.shape[0])\n",
    "        batch = unseen_data[last_index:current_index]\n",
    "        np.random.shuffle(batch)\n",
    "        drifted_data = np.concatenate((drifted_data, batch), axis=0)\n",
    "        last_index = current_index\n",
    "    i += 1\n"
   ]
  },
  {
   "cell_type": "code",
   "execution_count": 23,
   "metadata": {},
   "outputs": [
    {
     "data": {
      "text/plain": [
       "((51974, 32, 32, 3),\n",
       " [1200,\n",
       "  2400,\n",
       "  2800,\n",
       "  3200,\n",
       "  4400,\n",
       "  5600,\n",
       "  6800,\n",
       "  8000,\n",
       "  8400,\n",
       "  8800,\n",
       "  9600,\n",
       "  10400,\n",
       "  11200,\n",
       "  12000,\n",
       "  13600,\n",
       "  15200,\n",
       "  16000,\n",
       "  16800,\n",
       "  17200,\n",
       "  17600,\n",
       "  18000,\n",
       "  18400,\n",
       "  18800,\n",
       "  19200,\n",
       "  20400,\n",
       "  21600,\n",
       "  23200,\n",
       "  24800,\n",
       "  25600,\n",
       "  26400,\n",
       "  26800,\n",
       "  27200,\n",
       "  28400,\n",
       "  29600,\n",
       "  30400,\n",
       "  31200,\n",
       "  32800,\n",
       "  34400,\n",
       "  34800,\n",
       "  35200,\n",
       "  36800,\n",
       "  38400,\n",
       "  39200,\n",
       "  40000,\n",
       "  41600,\n",
       "  43200,\n",
       "  43600,\n",
       "  44000,\n",
       "  45200,\n",
       "  46400,\n",
       "  46800,\n",
       "  47200,\n",
       "  48800,\n",
       "  50400,\n",
       "  51200])"
      ]
     },
     "execution_count": 23,
     "metadata": {},
     "output_type": "execute_result"
    }
   ],
   "source": [
    "drifted_data.shape, ground_truth_drifts"
   ]
  },
  {
   "cell_type": "code",
   "execution_count": 24,
   "metadata": {},
   "outputs": [
    {
     "name": "stdout",
     "output_type": "stream",
     "text": [
      "1625/1625 [==============================] - 22s 13ms/step\n"
     ]
    }
   ],
   "source": [
    "# create an auxiliary model so we can extract data from the avg_pool layer of the already trained neural network\n",
    "# extract features from the drifted dataset\n",
    "extract_features_model = keras.Model(inputs=model.input, outputs=model.get_layer('avg_pool').output)\n",
    "features = extract_features_model.predict(drifted_data)"
   ]
  },
  {
   "cell_type": "code",
   "execution_count": 25,
   "metadata": {},
   "outputs": [],
   "source": [
    "# split the dataset in reasonable sized batches\n",
    "# modify the true drifts so that they are assigned to the current batches\n",
    "batch_size = 400\n",
    "data_splitted = split_dataframe(features, batch_size)\n",
    "ground_truth_drifts_batch = np.array(ground_truth_drifts) / batch_size\n",
    "ground_truth_drifts_batch = ground_truth_drifts_batch.astype(int)"
   ]
  },
  {
   "cell_type": "code",
   "execution_count": 26,
   "metadata": {},
   "outputs": [
    {
     "data": {
      "text/plain": [
       "array([  3,   6,   7,   8,  11,  14,  17,  20,  21,  22,  24,  26,  28,\n",
       "        30,  34,  38,  40,  42,  43,  44,  45,  46,  47,  48,  51,  54,\n",
       "        58,  62,  64,  66,  67,  68,  71,  74,  76,  78,  82,  86,  87,\n",
       "        88,  92,  96,  98, 100, 104, 108, 109, 110, 113, 116, 117, 118,\n",
       "       122, 126, 128])"
      ]
     },
     "execution_count": 26,
     "metadata": {},
     "output_type": "execute_result"
    }
   ],
   "source": [
    "ground_truth_drifts_batch"
   ]
  },
  {
   "cell_type": "code",
   "execution_count": 32,
   "metadata": {},
   "outputs": [
    {
     "name": "stdout",
     "output_type": "stream",
     "text": [
      "Unmasking:\n",
      "Threshold = 0.5\n",
      "0.873015873015873\n",
      "Threshold = 0.52\n",
      "0.9821428571428571\n",
      "Threshold = 0.53\n",
      "0.9821428571428571\n",
      "Threshold = 0.54\n",
      "1.0\n",
      "Threshold = 0.55\n",
      "1.0\n",
      "Threshold = 0.56\n",
      "1.0\n",
      "Threshold = 0.57\n",
      "0.9636363636363636\n",
      "Threshold = 0.58\n",
      "0.8909090909090909\n",
      "Threshold = 0.6\n",
      "0.509090909090909\n"
     ]
    },
    {
     "data": {
      "image/png": "[encoded data removed]",
      "text/plain": [
       "<Figure size 640x480 with 1 Axes>"
      ]
     },
     "metadata": {},
     "output_type": "display_data"
    }
   ],
   "source": [
    "# Perform grid search over the unmasking algorithm.\n",
    "thresholds = [0.5, 0.52, 0.53, 0.54, 0.55, 0.56, 0.57, 0.58, 0.6]\n",
    "jaccard_sim_unm = []\n",
    "\n",
    "print(\"Unmasking:\")\n",
    "for thr in thresholds:\n",
    "    print(f\"Threshold = {thr}\")\n",
    "    sim_unm = detect_drifts(data_splitted, unm.drift_detector, ground_truth_drifts_batch, show_drifts=False, accepted_error=1, threshold=thr, min_feature_percentage_remaining=0.05)\n",
    "    print(sim_unm)\n",
    "    jaccard_sim_unm.append(sim_unm)\n",
    "\n",
    "\n",
    "# Plot the results\n",
    "plt.xlabel('Threshold')\n",
    "plt.ylabel('Jaccard Similarity')\n",
    "plt.title('Drift detection over SVHN dataset (5 labels vs 5 labels)')\n",
    "\n",
    "plt.scatter(thresholds, jaccard_sim_unm, marker='o', color='red', label='accepted_error=1')\n",
    "plt.grid()\n",
    "plt.legend()\n",
    "plt.savefig('/images/svhn_itself_jaccard_thresholds_error1.png')\n",
    "plt.show()"
   ]
  },
  {
   "cell_type": "code",
   "execution_count": 3,
   "metadata": {},
   "outputs": [],
   "source": [
    "# # Detect drifts using D3 algorithm\n",
    "# print(\"D3:\")\n",
    "# sim_d3 = detect_drifts(data_splitted, d3.drift_detector, ground_truth_drifts_batch, accepted_error=1, show_drifts=True)\n",
    "# print(sim_d3) # similarity 1.0"
   ]
  }
 ],
 "metadata": {
  "kernelspec": {
   "display_name": ".venv",
   "language": "python",
   "name": "python3"
  },
  "language_info": {
   "codemirror_mode": {
    "name": "ipython",
    "version": 3
   },
   "file_extension": ".py",
   "mimetype": "text/x-python",
   "name": "python",
   "nbconvert_exporter": "python",
   "pygments_lexer": "ipython3",
   "version": "3.10.12"
  }
 },
 "nbformat": 4,
 "nbformat_minor": 2
}
