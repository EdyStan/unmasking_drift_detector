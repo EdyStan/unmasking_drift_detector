{
 "cells": [
  {
   "cell_type": "code",
   "execution_count": 1,
   "metadata": {},
   "outputs": [
    {
     "name": "stderr",
     "output_type": "stream",
     "text": [
      "2024-02-13 16:07:43.943683: I external/local_tsl/tsl/cuda/cudart_stub.cc:31] Could not find cuda drivers on your machine, GPU will not be used.\n",
      "2024-02-13 16:07:43.972239: E external/local_xla/xla/stream_executor/cuda/cuda_dnn.cc:9261] Unable to register cuDNN factory: Attempting to register factory for plugin cuDNN when one has already been registered\n",
      "2024-02-13 16:07:43.972263: E external/local_xla/xla/stream_executor/cuda/cuda_fft.cc:607] Unable to register cuFFT factory: Attempting to register factory for plugin cuFFT when one has already been registered\n",
      "2024-02-13 16:07:43.972935: E external/local_xla/xla/stream_executor/cuda/cuda_blas.cc:1515] Unable to register cuBLAS factory: Attempting to register factory for plugin cuBLAS when one has already been registered\n",
      "2024-02-13 16:07:43.977060: I external/local_tsl/tsl/cuda/cudart_stub.cc:31] Could not find cuda drivers on your machine, GPU will not be used.\n",
      "2024-02-13 16:07:43.977396: I tensorflow/core/platform/cpu_feature_guard.cc:182] This TensorFlow binary is optimized to use available CPU instructions in performance-critical operations.\n",
      "To enable the following instructions: AVX2 FMA, in other operations, rebuild TensorFlow with the appropriate compiler flags.\n",
      "2024-02-13 16:07:44.904466: W tensorflow/compiler/tf2tensorrt/utils/py_utils.cc:38] TF-TRT Warning: Could not find TensorRT\n"
     ]
    }
   ],
   "source": [
    "from keras.datasets import cifar100    \n",
    "from models.utils import ResNet18, split_dataframe, detect_drifts\n",
    "from skimage.transform import resize\n",
    "import keras\n",
    "import numpy as np\n",
    "import models.unmasking_drift_detector as unm\n",
    "import models.d3_drift_detector as d3\n",
    "import matplotlib.pyplot as plt\n",
    "import tensorflow as tf"
   ]
  },
  {
   "cell_type": "code",
   "execution_count": 2,
   "metadata": {},
   "outputs": [],
   "source": [
    "(images_train, labels_train), (images_test, labels_test) = cifar100.load_data()\n",
    "\n",
    "# svhn_data = loadmat('/home/edstan/Desktop/master_AI/practice/driftDatasets/realWorld/train_32x32.mat')\n",
    "# svhn_images, svhn_labels = svhn_data['X'], svhn_data['y']\n",
    "# svhn_images = np.moveaxis(svhn_images, -1, 0)\n",
    "# cap = svhn_images.shape[0] // 2\n",
    "# idx = int(0.8 * cap)"
   ]
  },
  {
   "cell_type": "code",
   "execution_count": 7,
   "metadata": {},
   "outputs": [],
   "source": [
    "train_indices = np.where(np.isin(labels_train, range(50)))[0]\n",
    "X_train = images_train[train_indices]\n",
    "y_train = labels_train[train_indices]\n",
    "test_indices = np.where(np.isin(labels_test, range(50)))[0]\n",
    "X_test = images_test[test_indices]\n",
    "y_test = labels_test[test_indices]"
   ]
  },
  {
   "cell_type": "code",
   "execution_count": 8,
   "metadata": {},
   "outputs": [],
   "source": [
    "model = tf.keras.models.load_model('driftDatasets/model_25epochs.h5')\n"
   ]
  },
  {
   "cell_type": "code",
   "execution_count": 9,
   "metadata": {},
   "outputs": [],
   "source": [
    "extract_features_model = keras.Model(inputs=model.input, outputs=model.get_layer('avg_pool').output)"
   ]
  },
  {
   "cell_type": "code",
   "execution_count": 10,
   "metadata": {},
   "outputs": [
    {
     "data": {
      "text/plain": [
       "(25000, 32, 32, 3)"
      ]
     },
     "execution_count": 10,
     "metadata": {},
     "output_type": "execute_result"
    }
   ],
   "source": [
    "unseen_data_indices = np.where(np.isin(labels_train, range(50, 100)))[0]\n",
    "unseen_data = images_train[unseen_data_indices]\n",
    "unseen_data.shape"
   ]
  },
  {
   "cell_type": "code",
   "execution_count": 11,
   "metadata": {},
   "outputs": [],
   "source": [
    "from keras.datasets import mnist\n",
    "(mnist_images, _), (_, _) = mnist.load_data()\n",
    "mnist_images = resize(mnist_images, (mnist_images.shape[0],32,32,3))"
   ]
  },
  {
   "cell_type": "code",
   "execution_count": 12,
   "metadata": {},
   "outputs": [],
   "source": [
    "drifted_data = np.empty((0, 32, 32, 3))\n",
    "i = 0\n",
    "last_index = 0\n",
    "current_index = 0\n",
    "ground_truth_drifts = []\n",
    "\n",
    "dimension_limit = 0.8 * X_train.shape[0]\n",
    "while drifted_data.shape[0] < dimension_limit:\n",
    "    current_index += np.random.choice([200, 400, 600, 800])\n",
    "    if i % 2 == 0:\n",
    "        if i != 0:\n",
    "            ground_truth_drifts.append(drifted_data.shape[0])\n",
    "        known_batch = X_train[3*last_index:3*current_index]\n",
    "        drifted_data = np.concatenate((drifted_data, known_batch), axis=0)\n",
    "    else:\n",
    "        ground_truth_drifts.append(drifted_data.shape[0])\n",
    "        known_batch = X_train[2*last_index:2*current_index]\n",
    "        batch = np.concatenate((known_batch, mnist_images[last_index:current_index]), axis=0)\n",
    "        np.random.shuffle(batch)\n",
    "        drifted_data = np.concatenate((drifted_data, batch), axis=0)\n",
    "    last_index = current_index\n",
    "    i += 1"
   ]
  },
  {
   "cell_type": "code",
   "execution_count": 13,
   "metadata": {},
   "outputs": [
    {
     "name": "stderr",
     "output_type": "stream",
     "text": [
      "2024-02-13 16:09:03.124677: W external/local_tsl/tsl/framework/cpu_allocator_impl.cc:83] Allocation of 250675200 exceeds 10% of free system memory.\n"
     ]
    },
    {
     "name": "stdout",
     "output_type": "stream",
     "text": [
      "638/638 [==============================] - 9s 13ms/step\n"
     ]
    },
    {
     "name": "stderr",
     "output_type": "stream",
     "text": [
      "2024-02-13 16:09:12.844444: W external/local_tsl/tsl/framework/cpu_allocator_impl.cc:83] Allocation of 41779200 exceeds 10% of free system memory.\n"
     ]
    },
    {
     "data": {
      "text/plain": [
       "(20400, 512)"
      ]
     },
     "execution_count": 13,
     "metadata": {},
     "output_type": "execute_result"
    }
   ],
   "source": [
    "features = extract_features_model.predict(drifted_data)\n",
    "features.shape"
   ]
  },
  {
   "cell_type": "code",
   "execution_count": 14,
   "metadata": {},
   "outputs": [
    {
     "data": {
      "text/plain": [
       "array([ 3,  9, 10, 13, 19, 25, 30, 33, 39, 45])"
      ]
     },
     "execution_count": 14,
     "metadata": {},
     "output_type": "execute_result"
    }
   ],
   "source": [
    "batch_size = 400\n",
    "data_splitted = split_dataframe(features, batch_size)\n",
    "ground_truth_drifts_batch = np.array(ground_truth_drifts) / 400\n",
    "ground_truth_drifts_batch = ground_truth_drifts_batch.astype(int)\n",
    "ground_truth_drifts_batch"
   ]
  },
  {
   "cell_type": "code",
   "execution_count": 18,
   "metadata": {},
   "outputs": [
    {
     "name": "stdout",
     "output_type": "stream",
     "text": [
      "D3:\n",
      "Change detected at index 9\n",
      "Change detected at index 14\n",
      "Change detected at index 26\n",
      "Change detected at index 33\n",
      "Change detected at index 45\n",
      "0.5\n"
     ]
    }
   ],
   "source": [
    "# Detect drifts using D3 algorithm\n",
    "print(\"D3:\")\n",
    "sim_d3 = detect_drifts(data_splitted, d3.drift_detector, ground_truth_drifts_batch, accepted_error=1, show_drifts=True)\n",
    "print(sim_d3) # 0.5"
   ]
  },
  {
   "cell_type": "code",
   "execution_count": 17,
   "metadata": {},
   "outputs": [
    {
     "name": "stdout",
     "output_type": "stream",
     "text": [
      "Unmasking:\n",
      "Threshold = 0.45\n",
      "0.3125\n",
      "Threshold = 0.47\n",
      "0.3448275862068966\n",
      "Threshold = 0.5\n",
      "0.37037037037037035\n",
      "Threshold = 0.52\n",
      "0.5555555555555556\n",
      "Threshold = 0.53\n",
      "0.4666666666666667\n",
      "Threshold = 0.54\n",
      "0.5384615384615384\n",
      "Threshold = 0.55\n",
      "0.7\n",
      "Threshold = 0.56\n",
      "0.45454545454545453\n",
      "Threshold = 0.57\n",
      "0.5\n",
      "Threshold = 0.58\n",
      "0.18181818181818182\n",
      "Threshold = 0.6\n",
      "0.1\n"
     ]
    },
    {
     "data": {
      "image/png": "[encoded data removed]",
      "text/plain": [
       "<Figure size 640x480 with 1 Axes>"
      ]
     },
     "metadata": {},
     "output_type": "display_data"
    }
   ],
   "source": [
    "# Perform grid search over the unmasking algorithm.\n",
    "thresholds = [0.45, 0.47, 0.5, 0.52, 0.53, 0.54, 0.55, 0.56, 0.57, 0.58, 0.6]\n",
    "jaccard_sim_unm = []\n",
    "\n",
    "print(\"Unmasking:\")\n",
    "for thr in thresholds:\n",
    "    print(f\"Threshold = {thr}\")\n",
    "    sim_unm = detect_drifts(data_splitted, unm.drift_detector, ground_truth_drifts_batch, show_drifts=False, accepted_error=1, threshold=thr, min_feature_percentage_remaining=0.05)\n",
    "    print(sim_unm)\n",
    "    jaccard_sim_unm.append(sim_unm)\n",
    "\n",
    "\n",
    "# Plot the results\n",
    "plt.xlabel('Threshold')\n",
    "plt.ylabel('Jaccard Similarity')\n",
    "plt.title('Drift detection over cifar100 x MNIST)')\n",
    "\n",
    "plt.scatter(thresholds, jaccard_sim_unm, marker='o', color='red', label='accepted_error=1')\n",
    "plt.grid()\n",
    "plt.legend()\n",
    "# plt.savefig('/home/edstan/Desktop/master_AI/practice/images/svhn_itself_jaccard_thresholds_error1.png')\n",
    "plt.show()"
   ]
  },
  {
   "cell_type": "code",
   "execution_count": 20,
   "metadata": {},
   "outputs": [
    {
     "name": "stdout",
     "output_type": "stream",
     "text": [
      "D3:\n",
      "0.5\n"
     ]
    }
   ],
   "source": [
    "print(\"D3:\")\n",
    "sim_d3 = detect_drifts(data_splitted, d3.drift_detector, ground_truth_drifts_batch, accepted_error=1, show_drifts=False)\n",
    "print(sim_d3)"
   ]
  }
 ],
 "metadata": {
  "kernelspec": {
   "display_name": ".venv",
   "language": "python",
   "name": "python3"
  },
  "language_info": {
   "codemirror_mode": {
    "name": "ipython",
    "version": 3
   },
   "file_extension": ".py",
   "mimetype": "text/x-python",
   "name": "python",
   "nbconvert_exporter": "python",
   "pygments_lexer": "ipython3",
   "version": "3.10.12"
  }
 },
 "nbformat": 4,
 "nbformat_minor": 2
}
