{
 "cells": [
  {
   "cell_type": "code",
   "execution_count": 8,
   "metadata": {},
   "outputs": [],
   "source": [
    "from keras.datasets import cifar100    \n",
    "from models.utils import ResNet18, split_dataframe, detect_drifts\n",
    "import keras\n",
    "import numpy as np\n",
    "import models.unmasking_drift_detector as unm\n",
    "import models.d3_drift_detector as d3\n",
    "import matplotlib.pyplot as plt"
   ]
  },
  {
   "cell_type": "code",
   "execution_count": 5,
   "metadata": {},
   "outputs": [],
   "source": [
    "(images_train, labels_train), (images_test, labels_test) = cifar100.load_data()\n",
    "\n",
    "# svhn_data = loadmat('/home/edstan/Desktop/master_AI/practice/driftDatasets/realWorld/train_32x32.mat')\n",
    "# svhn_images, svhn_labels = svhn_data['X'], svhn_data['y']\n",
    "# svhn_images = np.moveaxis(svhn_images, -1, 0)\n",
    "# cap = svhn_images.shape[0] // 2\n",
    "# idx = int(0.8 * cap)"
   ]
  },
  {
   "cell_type": "code",
   "execution_count": 9,
   "metadata": {},
   "outputs": [
    {
     "data": {
      "text/plain": [
       "((10000, 32, 32, 3),\n",
       " array([ 0,  1,  2,  3,  4,  5,  6,  7,  8,  9, 10, 11, 12, 13, 14, 15, 16,\n",
       "        17, 18, 19, 20, 21, 22, 23, 24, 25, 26, 27, 28, 29, 30, 31, 32, 33,\n",
       "        34, 35, 36, 37, 38, 39, 40, 41, 42, 43, 44, 45, 46, 47, 48, 49, 50,\n",
       "        51, 52, 53, 54, 55, 56, 57, 58, 59, 60, 61, 62, 63, 64, 65, 66, 67,\n",
       "        68, 69, 70, 71, 72, 73, 74, 75, 76, 77, 78, 79, 80, 81, 82, 83, 84,\n",
       "        85, 86, 87, 88, 89, 90, 91, 92, 93, 94, 95, 96, 97, 98, 99]))"
      ]
     },
     "execution_count": 9,
     "metadata": {},
     "output_type": "execute_result"
    }
   ],
   "source": [
    "images_test.shape, np.unique(labels_test)"
   ]
  },
  {
   "cell_type": "code",
   "execution_count": 26,
   "metadata": {},
   "outputs": [],
   "source": [
    "train_indices = np.where(np.isin(labels_train, range(50)))[0]\n",
    "X_train = images_train[train_indices]\n",
    "y_train = labels_train[train_indices]\n",
    "test_indices = np.where(np.isin(labels_test, range(50)))[0]\n",
    "X_test = images_test[test_indices]\n",
    "y_test = labels_test[test_indices]"
   ]
  },
  {
   "cell_type": "code",
   "execution_count": 27,
   "metadata": {},
   "outputs": [
    {
     "data": {
      "text/plain": [
       "((25000, 32, 32, 3), (25000, 1), (5000, 32, 32, 3), (5000, 1))"
      ]
     },
     "execution_count": 27,
     "metadata": {},
     "output_type": "execute_result"
    }
   ],
   "source": [
    "X_train.shape, y_train.shape, X_test.shape, y_test.shape"
   ]
  },
  {
   "cell_type": "code",
   "execution_count": 29,
   "metadata": {},
   "outputs": [
    {
     "name": "stdout",
     "output_type": "stream",
     "text": [
      "Epoch 1/10\n",
      "391/391 [==============================] - 415s 1s/step - loss: 3.1916 - accuracy: 0.1951 - val_loss: 6.9441 - val_accuracy: 0.1288\n",
      "Epoch 2/10\n",
      "391/391 [==============================] - 364s 931ms/step - loss: 2.5262 - accuracy: 0.3278 - val_loss: 4.7119 - val_accuracy: 0.1606\n",
      "Epoch 3/10\n",
      "391/391 [==============================] - 370s 946ms/step - loss: 2.1502 - accuracy: 0.4135 - val_loss: 2.8707 - val_accuracy: 0.2806\n",
      "Epoch 4/10\n",
      "391/391 [==============================] - 369s 943ms/step - loss: 1.8496 - accuracy: 0.4831 - val_loss: 2.7438 - val_accuracy: 0.3204\n",
      "Epoch 5/10\n",
      "391/391 [==============================] - 371s 949ms/step - loss: 1.6150 - accuracy: 0.5366 - val_loss: 2.3397 - val_accuracy: 0.3992\n",
      "Epoch 6/10\n",
      "391/391 [==============================] - 367s 939ms/step - loss: 1.4014 - accuracy: 0.5919 - val_loss: 2.3641 - val_accuracy: 0.3968\n",
      "Epoch 7/10\n",
      "391/391 [==============================] - 361s 924ms/step - loss: 1.1899 - accuracy: 0.6506 - val_loss: 2.0069 - val_accuracy: 0.4788\n",
      "Epoch 8/10\n",
      "391/391 [==============================] - 355s 908ms/step - loss: 0.9770 - accuracy: 0.7026 - val_loss: 2.5817 - val_accuracy: 0.4006\n",
      "Epoch 9/10\n",
      "391/391 [==============================] - 357s 914ms/step - loss: 0.7815 - accuracy: 0.7599 - val_loss: 2.5890 - val_accuracy: 0.4258\n",
      "Epoch 10/10\n",
      "391/391 [==============================] - 367s 939ms/step - loss: 0.6006 - accuracy: 0.8112 - val_loss: 2.5678 - val_accuracy: 0.4432\n"
     ]
    },
    {
     "data": {
      "text/plain": [
       "<keras.src.callbacks.History at 0x7fb5cbb44cd0>"
      ]
     },
     "execution_count": 29,
     "metadata": {},
     "output_type": "execute_result"
    }
   ],
   "source": [
    "model = ResNet18(input_shape=(32, 32, 3), n_classes=50)\n",
    "model.compile(optimizer=keras.optimizers.Adam(), loss='sparse_categorical_crossentropy', metrics=['accuracy'])\n",
    "model.fit(X_train, y_train, batch_size=64, epochs=10, validation_data=(X_test, y_test))\n",
    "# Epoch 10/10\n",
    "# 391/391 [==============================] - 367s 939ms/step - loss: 0.6006 - accuracy: 0.8112 - val_loss: 2.5678 - val_accuracy: 0.4432"
   ]
  },
  {
   "cell_type": "code",
   "execution_count": 30,
   "metadata": {},
   "outputs": [],
   "source": [
    "extract_features_model = keras.Model(inputs=model.input, outputs=model.get_layer('avg_pool').output)"
   ]
  },
  {
   "cell_type": "code",
   "execution_count": 32,
   "metadata": {},
   "outputs": [
    {
     "data": {
      "text/plain": [
       "(25000, 32, 32, 3)"
      ]
     },
     "execution_count": 32,
     "metadata": {},
     "output_type": "execute_result"
    }
   ],
   "source": [
    "unseen_data_indices = np.where(np.isin(labels_train, range(50, 100)))[0]\n",
    "unseen_data = images_train[unseen_data_indices]\n",
    "unseen_data.shape"
   ]
  },
  {
   "cell_type": "code",
   "execution_count": 59,
   "metadata": {},
   "outputs": [],
   "source": [
    "drifted_data = np.empty((0, 32, 32, 3))\n",
    "i = 0\n",
    "last_index = 0\n",
    "current_index = 0\n",
    "ground_truth_drifts = []\n",
    "\n",
    "dimension_limit = 0.9 * images_train.shape[0]\n",
    "while drifted_data.shape[0] < dimension_limit:\n",
    "    if i % 2 == 0:\n",
    "        current_index += np.random.choice([400, 800, 1200, 1600])\n",
    "        if i != 0:\n",
    "            ground_truth_drifts.append(drifted_data.shape[0])\n",
    "        known_batch = X_train[last_index:current_index]\n",
    "        drifted_data = np.concatenate((drifted_data, known_batch), axis=0)\n",
    "    else:\n",
    "        # ground_truth_drifts.append(drifted_data.shape[0])\n",
    "        batch = unseen_data[last_index:current_index]\n",
    "        np.random.shuffle(batch)\n",
    "        drifted_data = np.concatenate((drifted_data, batch), axis=0)\n",
    "        last_index = current_index\n",
    "    i += 1"
   ]
  },
  {
   "cell_type": "code",
   "execution_count": 60,
   "metadata": {},
   "outputs": [
    {
     "data": {
      "text/plain": [
       "(45600, 32, 32, 3)"
      ]
     },
     "execution_count": 60,
     "metadata": {},
     "output_type": "execute_result"
    }
   ],
   "source": [
    "drifted_data.shape"
   ]
  },
  {
   "cell_type": "code",
   "execution_count": 61,
   "metadata": {},
   "outputs": [
    {
     "name": "stdout",
     "output_type": "stream",
     "text": [
      "1425/1425 [==============================] - 18s 12ms/step\n"
     ]
    },
    {
     "data": {
      "text/plain": [
       "(45600, 512)"
      ]
     },
     "execution_count": 61,
     "metadata": {},
     "output_type": "execute_result"
    }
   ],
   "source": [
    "features = extract_features_model.predict(drifted_data)\n",
    "features.shape"
   ]
  },
  {
   "cell_type": "code",
   "execution_count": 62,
   "metadata": {},
   "outputs": [
    {
     "data": {
      "text/plain": [
       "array([  4,  12,  16,  18,  22,  26,  30,  32,  36,  38,  42,  46,  54,\n",
       "        58,  62,  70,  74,  82,  90,  94,  98, 106, 110])"
      ]
     },
     "execution_count": 62,
     "metadata": {},
     "output_type": "execute_result"
    }
   ],
   "source": [
    "batch_size = 400\n",
    "data_splitted = split_dataframe(features, batch_size)\n",
    "ground_truth_drifts_batch = np.array(ground_truth_drifts) / 400\n",
    "ground_truth_drifts_batch = ground_truth_drifts_batch.astype(int)\n",
    "ground_truth_drifts_batch"
   ]
  },
  {
   "cell_type": "code",
   "execution_count": 63,
   "metadata": {},
   "outputs": [],
   "source": [
    "np.save(\"ground_truth_drifts_batch_cifar.npy\", ground_truth_drifts_batch)\n",
    "np.save(\"features_cifar.npy\", features)"
   ]
  },
  {
   "cell_type": "code",
   "execution_count": 64,
   "metadata": {},
   "outputs": [
    {
     "name": "stdout",
     "output_type": "stream",
     "text": [
      "D3:\n",
      "0.0\n",
      "Unmasking:\n",
      "Threshold = 0.56\n",
      "Change detected at index 2\n",
      "Change detected at index 67\n",
      "Change detected at index 78\n",
      "0.0\n"
     ]
    },
    {
     "data": {
      "image/png": "[encoded data removed]",
      "text/plain": [
       "<Figure size 640x480 with 1 Axes>"
      ]
     },
     "metadata": {},
     "output_type": "display_data"
    }
   ],
   "source": [
    "thresholds = [0.56]\n",
    "jaccard_sim_unm = []\n",
    "\n",
    "print(\"D3:\")\n",
    "sim_d3 = detect_drifts(data_splitted, d3.drift_detector, ground_truth_drifts_batch, accepted_error=1, show_drifts=True)\n",
    "print(sim_d3)\n",
    "\n",
    "print(\"Unmasking:\")\n",
    "for thr in thresholds:\n",
    "    print(f\"Threshold = {thr}\")\n",
    "    sim_unm = detect_drifts(data_splitted, unm.drift_detector, ground_truth_drifts_batch, show_drifts=True, accepted_error=1, threshold=thr, min_feature_percentage_remaining=0.05)\n",
    "    print(sim_unm)\n",
    "    jaccard_sim_unm.append(sim_unm)\n",
    "\n",
    "\n",
    "\n",
    "\n",
    "plt.xlabel('Threshold')\n",
    "plt.ylabel('Jaccard Similarity')\n",
    "plt.title('Drift detection over SVHN + MNIST dataset')\n",
    "\n",
    "plt.scatter(thresholds, jaccard_sim_unm, marker='o', color='red', label='accepted_error=1')\n",
    "# plt.plot(percentages, [sim_d3]*len(percentages), c='blue', label='d3')\n",
    "plt.grid()\n",
    "plt.legend()\n",
    "plt.savefig('/home/edstan/Desktop/master_AI/practice/images/cifar100_jaccard_thresholds_error1.png')\n",
    "plt.show()"
   ]
  }
 ],
 "metadata": {
  "kernelspec": {
   "display_name": ".venv",
   "language": "python",
   "name": "python3"
  },
  "language_info": {
   "codemirror_mode": {
    "name": "ipython",
    "version": 3
   },
   "file_extension": ".py",
   "mimetype": "text/x-python",
   "name": "python",
   "nbconvert_exporter": "python",
   "pygments_lexer": "ipython3",
   "version": "3.10.12"
  }
 },
 "nbformat": 4,
 "nbformat_minor": 2
}
